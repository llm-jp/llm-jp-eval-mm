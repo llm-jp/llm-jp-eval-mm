{
 "cells": [
  {
   "cell_type": "markdown",
   "metadata": {},
   "source": [
    "# Heron Bench\n",
    "\n",
    "目的：Heron Benchに親しむ"
   ]
  },
  {
   "cell_type": "code",
   "execution_count": 6,
   "metadata": {},
   "outputs": [],
   "source": [
    "from datasets import load_dataset\n",
    "\n",
    "dataset_name = \"turing-motors/Japanese-Heron-Bench\"\n",
    "dataset = load_dataset(dataset_name)"
   ]
  },
  {
   "cell_type": "code",
   "execution_count": 7,
   "metadata": {},
   "outputs": [
    {
     "data": {
      "text/plain": [
       "{'image': <PIL.Image.Image image mode=RGB size=1920x1038>}"
      ]
     },
     "execution_count": 7,
     "metadata": {},
     "output_type": "execute_result"
    }
   ],
   "source": [
    "dataset['train'][0]"
   ]
  },
  {
   "cell_type": "code",
   "execution_count": 8,
   "metadata": {},
   "outputs": [],
   "source": [
    "for i, sample in enumerate(dataset['train']):\n",
    "    idx = i + 1\n",
    "    # format to xxx.png\n",
    "    idx = str(idx).zfill(3)\n",
    "    sample['image'].save(f\"tmp/{idx}.jpg\")"
   ]
  },
  {
   "cell_type": "markdown",
   "metadata": {},
   "source": [
    "[事実]\n",
    "- データセットには画像のみ格納されている\n",
    "- したがって，それらをjoinして扱いやすいデータセットを作成した上でllm-jpにアップロードする"
   ]
  },
  {
   "cell_type": "code",
   "execution_count": 9,
   "metadata": {},
   "outputs": [],
   "source": [
    "import pandas as pd\n",
    "from datasets import Dataset, Image\n",
    "\n",
    "df = pd.read_json('../data/japanese-heron-bench/questions_ja.jsonl', lines=True)\n",
    "df['image'] = df['image'].apply(lambda x: f'tmp/{x}')\n",
    "heron_bench_llmjp_hf = Dataset.from_pandas(df)\n",
    "heron_bench_llmjp_hf = heron_bench_llmjp_hf.cast_column('image', Image())"
   ]
  },
  {
   "cell_type": "code",
   "execution_count": 11,
   "metadata": {},
   "outputs": [
    {
     "name": "stderr",
     "output_type": "stream",
     "text": [
      "Map: 100%|██████████| 103/103 [00:00<00:00, 889.62 examples/s]it/s]\n",
      "Creating parquet from Arrow format: 100%|██████████| 2/2 [00:00<00:00, 89.40ba/s]\n",
      "Uploading the dataset shards: 100%|██████████| 1/1 [00:02<00:00,  2.42s/it]\n"
     ]
    }
   ],
   "source": [
    "from huggingface_hub import HfApi, HfFolder\n",
    "\n",
    "# データセットをHugging Face Hubにプッシュする関数\n",
    "def push_dataset_to_hub(dataset, repo_id):\n",
    "    # データセットのプッシュ\n",
    "    dataset.push_to_hub(repo_id)\n",
    "\n",
    "# HfApiインスタンスを作成\n",
    "api = HfApi()\n",
    "\n",
    "# HfFolderからトークンを取得\n",
    "token = HfFolder.get_token()\n",
    "\n",
    "# データセットをプッシュするリポジトリID\n",
    "repo_id = \"Silviase/Japanese-Heron-Bench\"\n",
    "\n",
    "# データセットをHugging Face Hubにプッシュ\n",
    "push_dataset_to_hub(heron_bench_llmjp_hf, repo_id)\n"
   ]
  },
  {
   "cell_type": "code",
   "execution_count": 16,
   "metadata": {},
   "outputs": [
    {
     "data": {
      "text/plain": [
       "{'question_id': 0,\n",
       " 'image': <PIL.JpegImagePlugin.JpegImageFile image mode=RGB size=1920x1038>,\n",
       " 'category': 'complex',\n",
       " 'image_category': 'anime',\n",
       " 'context': '宮崎駿監督によるジブリ作品「君たちはどう生きるか」のワンシーンです。机には２枚の青色の鳥の羽が置かれており、少年が小型ナイフでそのうちの一つを加工しています。他には竹の棒や赤いワイヤー、２本の鉛筆が机の左側に置かれており、右側には数冊の本といくつかの書類が置かれている。',\n",
       " 'text': 'この作品は著名な映画監督により制作されました。イラストから誰の作品だと考えられますか？'}"
      ]
     },
     "execution_count": 16,
     "metadata": {},
     "output_type": "execute_result"
    }
   ],
   "source": [
    "dataset_from_hf = load_dataset(\"Silviase/Japanese-Heron-Bench\")\n",
    "dataset_from_hf['train'][0]"
   ]
  }
 ],
 "metadata": {
  "kernelspec": {
   "display_name": ".venv",
   "language": "python",
   "name": "python3"
  },
  "language_info": {
   "codemirror_mode": {
    "name": "ipython",
    "version": 3
   },
   "file_extension": ".py",
   "mimetype": "text/x-python",
   "name": "python",
   "nbconvert_exporter": "python",
   "pygments_lexer": "ipython3",
   "version": "3.10.12"
  }
 },
 "nbformat": 4,
 "nbformat_minor": 2
}
